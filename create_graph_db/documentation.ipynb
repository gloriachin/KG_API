{
 "cells": [
  {
   "cell_type": "markdown",
   "metadata": {},
   "source": [
    "Short breakdown on how nodes & relationships are being labeled so far. "
   ]
  },
  {
   "cell_type": "markdown",
   "metadata": {},
   "source": [
    "## Relationship Labels \n",
    "\n",
    "ASSOCIATED_WITH\n",
    "- Used for almost all files with a 'predicate' column\n",
    "- For example, 'associated_with_resistance_to' under the 'predicate' column will be under the relationship 'r:ASSOCIATED_WITH' with r.Predicate = 'associated_with_resistance_to'\n",
    "\n",
    "TARGETS\n",
    "- Used for all files where the 'predicate' column is only filled with the value 'targets'"
   ]
  },
  {
   "cell_type": "markdown",
   "metadata": {},
   "source": [
    "## Node Labels\n",
    "\n",
    "Gene\n",
    "- In most files these are the 'object' columns\n",
    "\n",
    "Drug\n",
    "- In most files these are the 'subject' columns"
   ]
  }
 ],
 "metadata": {
  "kernelspec": {
   "display_name": "Python 3.8.9 64-bit",
   "language": "python",
   "name": "python3"
  },
  "language_info": {
   "name": "python",
   "version": "3.8.9"
  },
  "orig_nbformat": 4,
  "vscode": {
   "interpreter": {
    "hash": "31f2aee4e71d21fbe5cf8b01ff0e069b9275f58929596ceb00d14d90e3e16cd6"
   }
  }
 },
 "nbformat": 4,
 "nbformat_minor": 2
}
