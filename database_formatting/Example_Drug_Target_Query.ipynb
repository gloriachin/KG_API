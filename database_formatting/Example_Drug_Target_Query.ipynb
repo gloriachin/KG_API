#Import libraries and class with functions
import pandas as pd
from drug_target_format.drug_target_functions import drug_target_format

#Insert the file path of where your input file is located
#Input file should contain drug name, drug synonym, gene target, reference, stage, pubchem id and/or chembl id
#Make sure column names in input file match those used in KGI_Formatting
drug_list = pd.read_csv('C:/Users/emily/OneDrive/Documents/Drug ID/final_screened_compounds.csv')
drug_format = drug_target_format(drug_list)

#Define whether you want subject.id and subject.id.prefixes column to be from Pubchem or Chembl
prefix = 'Pubchem'

#Create final csv
drug_format.subject(prefix)
drug_format.object()
drug_format.association()
drug_format.add_columns()
