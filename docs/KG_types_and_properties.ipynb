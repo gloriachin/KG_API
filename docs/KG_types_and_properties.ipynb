{
 "cells": [
  {
   "cell_type": "markdown",
   "metadata": {},
   "source": [
    "# Knowledge Graph"
   ]
  },
  {
   "cell_type": "markdown",
   "metadata": {},
   "source": [
    "## Nodes\n",
    "\n",
    "#### Types\n",
    "- Disease\n",
    "- Drug\n",
    "- Gene\n",
    "\n",
    "#### Properties\n",
    "\n",
    "- Disease \n",
    "    - **Category -** string - uppercase (e.g.: \"DISEASE\")\n",
    "    - **Chembl_ID -** string, (e.g.: \"MONDO:0008170\")\n",
    "    - **Prefixes -** string - uppercase (e.g.: \"MONDO.DISEASE\")\n",
    "    - **Pubchem_ID -** string (e.g., \"MONDO:0008170\")\n",
    "\n",
    "- Drug\n",
    "    - **Category -** string - uppercase (e.g.: \"DRUG\")\n",
    "    - **Chembl_ID -** integer (e.g.: 36314)\n",
    "    - **Name -** string - uppercase (e.g.: \"PACLITAXEL\")\n",
    "    - **Prefixes -** string - uppercase (e.g.: \"PUBCHEM.COMPOUND\")\n",
    "    - **Pubchem_ID -** integer (e.g.: 36314)\n",
    "    - **Synonym -** string - uppercase (e.g.: \"NANOXEL|SINDAXEL\")\n",
    "\n",
    "- Gene\n",
    "    - **Category -** string - uppercase (e.g.: \"GENE\")\n",
    "    - **Chembl_ID -** integer (e.g.: 4133)\n",
    "    - **ID -** integer - NCBI id (e.g.: 64102)\n",
    "    - **Name -** string - uppercase (e.g.: \"MICROTUBULE ASSOCIATED PROTEIN 2\")\n",
    "    - **NCBI_ID -** integer (e.g.: 64102)\n",
    "    - **Predicate -** string - uppercase (e.g.: \"PHYSICALLY_INTERACTS_WITH\")\n",
    "    - **Prefixes -** string - uppercase (e.g.: \"NCBI.GENE\")\n",
    "    - **Pubchem_ID -** integer (e.g.: 4133)\n",
    "    - **Symbol -** string - uppercase (e.g.: \"MAP2\")"
   ]
  },
  {
   "cell_type": "markdown",
   "metadata": {},
   "source": [
    "## Relationships\n",
    "\n",
    "#### Types\n",
    "- AFFECTS_EXPRESSION_OF\n",
    "    - Gene --> Gene\n",
    "- APPROVED_TO_TREAT\n",
    "    - Drug --> Disease\n",
    "- INCREASES_ACTIVITY_OF\n",
    "    - Gene --> Gene\n",
    "- PHYSICALLY_INTERACTS_WITH\n",
    "    - Gene --> Gene\n",
    "- TARGETS\n",
    "    - Drug --> Gene\n",
    "\n",
    "#### Properties\n",
    "- AFFECTS_EXPRESSION_OF\n",
    "    - **Publications -** string - uppercase (e.g.: \"KEGG:HSA04137\")\n",
    "\n",
    "- APPROVED_TO_TREAT\n",
    "    - **Knowledge_Source -** string - uppercase (e.g.: \"WWW.CANCER.GOV/ABOUT-CANCER/TREATMENT/DRUGS/OVARIAN\")\n",
    "    - **Provided_by -** string - uppercase (e.g.: \"MULTIOMICS-BIGGIM\")\n",
    "    - **FDA_approval_status -** string - uppercase (e.g.: \"APPROVED\")\n",
    "\n",
    "- INCREASES_ACTIVITY_OF\n",
    "    - **Publications -** string - uppercase (e.g.: \"KEGG:HSA04137\")\n",
    "\n",
    "- PHYSICALLY_INTERACTS_WITH\n",
    "    - **Publications -** string - uppercase (e.g.: \"PMID: 32296183\")\n",
    "\n",
    "- TARGETS\n",
    "    - **Knowledge_Source -** string - uppercase (e.g.: \"WWW.CANCER.GOV/ABOUT-CANCER/TREATMENT/DRUGS/OVARIAN\")\n",
    "    - **Provided_by -** string - uppercase (e.g.: \"MULTIOMICS-BIGGIM\")"
   ]
  }
 ],
 "metadata": {
  "kernelspec": {
   "display_name": "Python 3.8.9 64-bit",
   "language": "python",
   "name": "python3"
  },
  "language_info": {
   "name": "python",
   "version": "3.8.9"
  },
  "orig_nbformat": 4,
  "vscode": {
   "interpreter": {
    "hash": "31f2aee4e71d21fbe5cf8b01ff0e069b9275f58929596ceb00d14d90e3e16cd6"
   }
  }
 },
 "nbformat": 4,
 "nbformat_minor": 2
}
