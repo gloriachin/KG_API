{
 "cells": [
  {
   "cell_type": "markdown",
   "metadata": {},
   "source": [
    "# Knowledge Graph"
   ]
  },
  {
   "cell_type": "markdown",
   "metadata": {},
   "source": [
    "## Nodes\n",
    "\n",
    "#### Properties\n",
    "- **Category -** string - uppercase (e.g.: \"DISEASE\")\n",
    "- **Chembl_ID -** string, (e.g.: \"MONDO:0008170\")\n",
    "- **Name -** string - uppercase (e.g.: \"OVARIAN CANCER\")\n",
    "- **NCBI_ID -** integer (e.g.: 64102)\n",
    "- **Prefixes -** string - uppercase (e.g.: \"MONDO.DISEASE\")\n",
    "- **Pubchem_ID -** string (e.g., \"MONDO:0008170\")\n",
    "- **Synonym -** string - uppercase (e.g.: \"NANOXEL|SINDAXEL\")\n",
    "\n",
    "#### Types and their Respective Properties\n",
    "- Disease\n",
    "    - **Category -** string - uppercase (e.g.: \"DISEASE\")\n",
    "    - **Chembl_ID -** string, (e.g.: \"MONDO:0008170\")\n",
    "    - **Name -** string - uppercase (e.g.: \"OVARIAN CANCER\")\n",
    "    - **Prefixes -** string - uppercase (e.g.: \"MONDO.DISEASE\")\n",
    "    - **Pubchem_ID -** string (e.g., \"MONDO:0008170\")\n",
    "- Drug\n",
    "    - **Category -** string - uppercase (e.g.: \"DRUG\")\n",
    "    - **Chembl_ID -** integer (e.g.: 36314)\n",
    "    - **Name -** string - uppercase (e.g.: \"PACLITAXEL\")\n",
    "    - **Prefixes -** string - uppercase (e.g.: \"PUBCHEM.COMPOUND\")\n",
    "    - **Pubchem_ID -** integer (e.g.: 36314)\n",
    "    - **Synonym -** string - uppercase (e.g.: \"NANOXEL|SINDAXEL\")\n",
    "- Gene\n",
    "    - **Category -** string - uppercase (e.g.: \"GENE\")\n",
    "    - **Chembl_ID -** integer (e.g.: 4133)\n",
    "    - **Name -** string - uppercase (e.g.: \"MICROTUBULE ASSOCIATED PROTEIN 2\")\n",
    "    - **NCBI_ID -** integer (e.g.: 64102)\n",
    "    - **Prefixes -** string - uppercase (e.g.: \"NCBI.GENE\")\n",
    "    - **Pubchem_ID -** integer (e.g.: 4133)\n",
    "    - **Symbol -** string - uppercase (e.g.: \"MAP2\")\n",
    "- Small Molecule\n",
    "    - **Category -** string - uppercase (e.g.: \"DRUG\")\n",
    "    - **Chembl_ID -** integer (e.g.: 36314)\n",
    "    - **Name -** string - uppercase (e.g.: \"PACLITAXEL\")\n",
    "    - **Prefixes -** string - uppercase (e.g.: \"PUBCHEM.COMPOUND\")\n",
    "    - **Pubchem_ID -** integer (e.g.: 36314)\n",
    "    - **Synonym -** string - uppercase (e.g.: \"NANOXEL|SINDAXEL\")"
   ]
  },
  {
   "cell_type": "markdown",
   "metadata": {},
   "source": [
    "## Relationships\n",
    "\n",
    "#### Properties\n",
    "- **FDA_approval_status -** string - uppercase (e.g.: \"APPROVED\")\n",
    "- **Knowledge_Source -** string - uppercase (e.g.: \"WWW.CANCER.GOV/ABOUT-CANCER/TREATMENT/DRUGS/OVARIAN\")\n",
    "- **Provided_By -** string - uppercase (e.g.: \"MULTIOMICS-BIGGIM\")\n",
    "- **Publications -** string - uppercase (e.g.: \"KEGG:HSA04137\")\n",
    "\n",
    "#### Types and their Respective Properties\n",
    "- Drug --> Disease\n",
    "    - APPROVED_TO_TREAT\n",
    "        - **Knowledge_Source -** string - uppercase (e.g.: \"WWW.CANCER.GOV/ABOUT-CANCER/TREATMENT/DRUGS/OVARIAN\")\n",
    "        - **Provided_by -** string - uppercase (e.g.: \"MULTIOMICS-BIGGIM\")\n",
    "        - **FDA_approval_status -** string - uppercase (e.g.: \"APPROVED\")\n",
    "\n",
    "- Drug --> Gene\n",
    "    - TARGETS\n",
    "        - **Knowledge_Source -** string - uppercase (e.g.: \"WWW.CANCER.GOV/ABOUT-CANCER/TREATMENT/DRUGS/OVARIAN\")\n",
    "        - **Provided_by -** string - uppercase (e.g.: \"MULTIOMICS-BIGGIM\")\n",
    "\n",
    "- Gene --> Gene\n",
    "    - AFFECTS_EXPRESSION_OF\n",
    "        - **Publications -** string - uppercase (e.g.: \"KEGG:HSA04137\")\n",
    "    - INCREASES_ACTIVITY_OF\n",
    "        - **Publications -** string - uppercase (e.g.: \"KEGG:HSA04137\")\n",
    "    - PHYSICALLY_INTERACTS_WITH\n",
    "        - **Publications -** string - uppercase (e.g.: \"KEGG:HSA04137\")\n",
    "    - AFFECTS_MOLECULAR_MODIFICATION_OF\n",
    "        - **Publications -** string - uppercase (e.g.: \"KEGG:HSA04137\")\n",
    "    - DECREASES_ABUNDANCE_OF\n",
    "        - **Publications -** string - uppercase (e.g.: \"KEGG:HSA04137\")\n",
    "    - INCREASES_ABUNDANCE_OF\n",
    "        - **Publications -** string - uppercase (e.g.: \"KEGG:HSA04137\")\n",
    "    - POSITIVELY_REGULATES\n",
    "        - **Publications -** string - uppercase (e.g.: \"KEGG:HSA04137\")\n",
    "    - NEGATIVELY_REGULATES\n",
    "        - **Publications -** string - uppercase (e.g.: \"KEGG:HSA04137\")\n",
    "    - BINDS\n",
    "        - **Publications -** string - uppercase (e.g.: \"KEGG:HSA04137\")\n",
    "    - DECREASES_AMOUNT_OR_ACTIVITY_OF\n",
    "        - **Publications -** string - uppercase (e.g.: \"KEGG:HSA04137\")\n",
    "    - DECREASES_EXPRESSION_OF\n",
    "        - **Publications -** string - uppercase (e.g.: \"KEGG:HSA04137\")\n",
    "    - INCREASES_EXPRESSION_OF\n",
    "        - **Publications -** string - uppercase (e.g.: \"KEGG:HSA04137\")\n",
    "    - DECREASES_ACTIVITY_OF\n",
    "        - **Publications -** string - uppercase (e.g.: \"KEGG:HSA04137\")\n",
    "    - NEGATIVELY_CORRELATES_WITH\n",
    "        - **Publications -** string - uppercase (e.g.: \"KEGG:HSA04137\")\n",
    "    - AFFECTS\n",
    "        - **Publications -** string - uppercase (e.g.: \"KEGG:HSA04137\")\n",
    "    - POSITIVELY_CORRELATED_WITH\n",
    "        - **Publications -** string - uppercase (e.g.: \"KEGG:HSA04137\")"
   ]
  }
 ],
 "metadata": {
  "kernelspec": {
   "display_name": "Python 3.8.9 64-bit",
   "language": "python",
   "name": "python3"
  },
  "language_info": {
   "name": "python",
   "version": "3.8.9"
  },
  "orig_nbformat": 4,
  "vscode": {
   "interpreter": {
    "hash": "31f2aee4e71d21fbe5cf8b01ff0e069b9275f58929596ceb00d14d90e3e16cd6"
   }
  }
 },
 "nbformat": 4,
 "nbformat_minor": 2
}
