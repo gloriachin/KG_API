{
 "cells": [
  {
   "cell_type": "markdown",
   "metadata": {},
   "source": [
    "# Extra Information on your  Neo4j Graph Database"
   ]
  },
  {
   "cell_type": "markdown",
   "metadata": {},
   "source": [
    "#### Export your Database as CSV\n",
    "\n",
    "1. In Neo4j Desktop, click on your DBMS to open the 'Manage' screen. Choose 'Plugins', and install 'APOC' (wait until you see the 'installed' message).\n",
    "    \n",
    "    i. Refer to the documentation [here](https://neo4j.com/labs/apoc/4.2/installation/)\n",
    "\n",
    "2. Create the ‘apoc.conf’ file. \n",
    "\n",
    "\ti. Open the DBMS folder by hovering over your DBMS and clicking the three dots (…). Choose ‘Open Folder’ then ‘Configuration’. The conf folder will open and you should see the \"neo4j.conf\" file. \n",
    "    \n",
    "    ii. Create a new file and name it ‘apoc.conf’. Do this by opening a notepad, or follow this path in your terminal and use your favorite text editor. In your new file, enter the following 3 lines, save, and exit.\n",
    "\n",
    "    ```python\n",
    "    apoc.import.file.enabled=true\n",
    "\tapoc.import.file.use_neo4j_config=true\n",
    "    apoc.export.file.enabled=true\n",
    "    ```\n",
    "        \n",
    "    iii. Restart your DBMS by clicking ‘Stop’ and then ‘Start’.\n",
    "\n",
    "    iv. Refer to the documentation [here](https://neo4j.com/labs/apoc/4.2/export/csv/) \n",
    "\n",
    "3. Hover over your DBMS and click 'Open', Neo4j Browser will open. Enter the following query to export your entire dbms as a csv file. Your new file will be located in the 'import' folder of your DBMS. Easy access by repeating step 1 in this section, but instead of choosing the 'Configuration' folder, open the 'import' folder, and your csv file should be right there!\n",
    "\n",
    "    ```python\n",
    "    CALL apoc.export.csv.all(\"filename.csv\", {})\n",
    "    ```"
   ]
  },
  {
   "cell_type": "markdown",
   "metadata": {},
   "source": [
    "#### Update your Graph Database \n",
    "Find the apoc documentation on this [here](https://neo4j.com/labs/apoc/4.2/graph-updates/)"
   ]
  }
 ],
 "metadata": {
  "kernelspec": {
   "display_name": "Python 3.8.9 64-bit",
   "language": "python",
   "name": "python3"
  },
  "language_info": {
   "name": "python",
   "version": "3.8.9"
  },
  "orig_nbformat": 4,
  "vscode": {
   "interpreter": {
    "hash": "31f2aee4e71d21fbe5cf8b01ff0e069b9275f58929596ceb00d14d90e3e16cd6"
   }
  }
 },
 "nbformat": 4,
 "nbformat_minor": 2
}
