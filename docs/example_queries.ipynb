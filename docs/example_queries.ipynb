{
 "cells": [
  {
   "cell_type": "markdown",
   "metadata": {},
   "source": [
    "# Query Examples to use on our Knowledge Graph\n",
    "\n",
    "1) What could be the potential targets for one disease?\n",
    "2) What drugs could treat a given disease?\n",
    "3) How are two genes are potentially interacted (eg. EGFR and TP53)?\n",
    "4) What drugs could be associated with a given gene?"
   ]
  },
  {
   "cell_type": "markdown",
   "metadata": {},
   "source": [
    "## 1) \n",
    "diseaseName = \"BRCA\"\n",
    "\n",
    "MATCH (d:Disease {Name: $diseaseName})-[TARGETS]-(target)\n",
    "\n",
    "RETURN DISTINCT target\n",
    "\n",
    ";"
   ]
  },
  {
   "cell_type": "code",
   "execution_count": null,
   "metadata": {
    "vscode": {
     "languageId": "sql"
    }
   },
   "outputs": [],
   "source": [
    "MATCH (d:Disease {Name: \"BRCA\"})-[TARGETS]-(target)\n",
    "RETURN DISTINCT target\n",
    ";"
   ]
  },
  {
   "cell_type": "markdown",
   "metadata": {},
   "source": [
    "## 2) \n",
    "diseaseName = \"BRCA\"\n",
    "\n",
    "MATCH (drug:Drug)-[p:APPROVED_TO_TREAT]->(d:Disease {Name: $diseaseName})\n",
    "\n",
    "RETURN DISTINCT drug\n",
    "\n",
    ";"
   ]
  },
  {
   "cell_type": "code",
   "execution_count": null,
   "metadata": {
    "vscode": {
     "languageId": "sql"
    }
   },
   "outputs": [],
   "source": [
    "MATCH (drug:Drug)-[p:APPROVED_TO_TREAT]->(d:Disease {Name: \"BRCA\"})\n",
    "RETURN DISTINCT drug\n",
    ";"
   ]
  },
  {
   "cell_type": "markdown",
   "metadata": {},
   "source": [
    "## 3) \n",
    "g1Symbol = \"EGFR\"\n",
    "\n",
    "g2Symbol = \"TP53\"\n",
    "\n",
    "MATCH (g1:Gene {Name: $g1Name})-[rel]-(g2:Gene{Symbol: $g2Symbol})\n",
    "\n",
    "RETURN DISTINCT type(rel)\n",
    "\n",
    ";"
   ]
  },
  {
   "cell_type": "code",
   "execution_count": null,
   "metadata": {
    "vscode": {
     "languageId": "sql"
    }
   },
   "outputs": [],
   "source": [
    "MATCH (g1:Gene {Symbol: \"EGFR\"})-[rel]-(g2:Gene{Symbol: \"TP53\"})\n",
    "RETURN DISTINCT type(rel)\n",
    ";"
   ]
  },
  {
   "cell_type": "markdown",
   "metadata": {},
   "source": [
    "## 4) \n",
    "geneSymbol = \"BCL2\"\n",
    "\n",
    "MATCH (d:Drug)-[rel]->(g:Gene{Symbol: $geneSymbol})\n",
    "\n",
    "RETURN DISTINCT d, type(rel)\n",
    "\n",
    ";"
   ]
  },
  {
   "cell_type": "code",
   "execution_count": null,
   "metadata": {
    "vscode": {
     "languageId": "sql"
    }
   },
   "outputs": [],
   "source": [
    "MATCH (d:Drug)-[rel]->(g:Gene{Symbol: \"BCL2\"})\n",
    "RETURN DISTINCT d, type(rel)\n",
    ";"
   ]
  }
 ],
 "metadata": {
  "language_info": {
   "name": "python"
  },
  "orig_nbformat": 4
 },
 "nbformat": 4,
 "nbformat_minor": 2
}
