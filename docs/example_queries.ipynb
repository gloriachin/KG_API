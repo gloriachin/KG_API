{
 "cells": [
  {
   "cell_type": "markdown",
   "metadata": {},
   "source": [
    "# Query Examples to use on our Knowledge Graph"
   ]
  },
  {
   "cell_type": "markdown",
   "metadata": {},
   "source": [
    "## 1) What could be the potential targets for one disease? \n",
    "\n",
    "note to self: below is incorrect, it should be: disease to drug to gene and return the gene\n",
    "\n",
    "diseaseName = \"OVARIAN CANCER\"\n",
    "\n",
    "MATCH (d:Disease {Name: $diseaseName})-[TARGETS]-(target)\n",
    "\n",
    "RETURN DISTINCT target\n",
    "\n",
    ";"
   ]
  },
  {
   "cell_type": "code",
   "execution_count": null,
   "metadata": {
    "vscode": {
     "languageId": "sql"
    }
   },
   "outputs": [],
   "source": [
    "MATCH (d:Disease {Name: \"OVARIAN CANCER\"})-[TARGETS]-(target)\n",
    "RETURN DISTINCT target\n",
    ";"
   ]
  },
  {
   "cell_type": "markdown",
   "metadata": {},
   "source": [
    "## 2) What drugs could treat a given disease? \n",
    "diseaseName = \"BRCA\"\n",
    "\n",
    "MATCH (drug:Drug)-[p:APPROVED_TO_TREAT]->(d:Disease {Name: $diseaseName})\n",
    "\n",
    "RETURN DISTINCT drug\n",
    "\n",
    ";"
   ]
  },
  {
   "cell_type": "code",
   "execution_count": null,
   "metadata": {
    "vscode": {
     "languageId": "sql"
    }
   },
   "outputs": [],
   "source": [
    "MATCH (drug:Drug)-[p:APPROVED_TO_TREAT]->(d:Disease {Name: \"BRCA\"})\n",
    "RETURN DISTINCT drug\n",
    ";"
   ]
  },
  {
   "cell_type": "markdown",
   "metadata": {},
   "source": [
    "## 3) How are two genes are potentially interacted (eg. EGFR and TP53)? \n",
    "g1Symbol = \"EGFR\"\n",
    "\n",
    "g2Symbol = \"TP53\"\n",
    "\n",
    "MATCH (g1:Gene {Name: $g1Name})-[rel]-(g2:Gene{Symbol: $g2Symbol})\n",
    "\n",
    "RETURN DISTINCT type(rel)\n",
    "\n",
    ";"
   ]
  },
  {
   "cell_type": "code",
   "execution_count": null,
   "metadata": {
    "vscode": {
     "languageId": "sql"
    }
   },
   "outputs": [],
   "source": [
    "MATCH (g1:Gene {Symbol: \"EGFR\"})-[rel]-(g2:Gene{Symbol: \"TP53\"})\n",
    "RETURN DISTINCT type(rel)\n",
    ";"
   ]
  },
  {
   "cell_type": "markdown",
   "metadata": {},
   "source": [
    "## 4) What drugs could be associated with a given gene? \n",
    "geneSymbol = \"BCL2\"\n",
    "\n",
    "MATCH (d:Drug)-[rel]->(g:Gene{Symbol: $geneSymbol})\n",
    "\n",
    "RETURN DISTINCT d, type(rel)\n",
    "\n",
    ";"
   ]
  },
  {
   "cell_type": "code",
   "execution_count": null,
   "metadata": {
    "vscode": {
     "languageId": "sql"
    }
   },
   "outputs": [],
   "source": [
    "MATCH (d:Drug)-[rel]->(g:Gene{Symbol: \"BCL2\"})\n",
    "RETURN DISTINCT d, type(rel)\n",
    ";"
   ]
  }
 ],
 "metadata": {
  "kernelspec": {
   "display_name": "Python 3.8.9 64-bit",
   "language": "python",
   "name": "python3"
  },
  "language_info": {
   "name": "python",
   "version": "3.8.9"
  },
  "orig_nbformat": 4,
  "vscode": {
   "interpreter": {
    "hash": "31f2aee4e71d21fbe5cf8b01ff0e069b9275f58929596ceb00d14d90e3e16cd6"
   }
  }
 },
 "nbformat": 4,
 "nbformat_minor": 2
}
