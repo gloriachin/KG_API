{
 "cells": [
  {
   "cell_type": "markdown",
   "metadata": {},
   "source": [
    "# Cypher query examples to use on the knowledge graph"
   ]
  },
  {
   "cell_type": "markdown",
   "metadata": {},
   "source": [
    "#### What are the potential gene targets for a given disease?\n",
    "Since genes and diseases are not directly related in the knowledge graph, you first have to search for the drug that is approved to treat the given disease, and then you can search for the genes that are the targets for that drug. "
   ]
  },
  {
   "cell_type": "code",
   "execution_count": null,
   "metadata": {
    "vscode": {
     "languageId": "sql"
    }
   },
   "outputs": [],
   "source": [
    "/* Direct relationships */\n",
    "MATCH (disease:Disease {Name:\"OVARIAN CANCER\"})<-[diseaseToDrug:APPROVED_TO_TREAT]-(drug:Drug)\n",
    "WITH disease, diseaseToDrug, drug as d\n",
    "MATCH (drug:Drug)-[drugToGene]-(gene:Gene)\n",
    "WHERE drug.Name=d.Name\n",
    "RETURN DISTINCT disease, diseaseToDrug, d, drug, drugToGene, gene\n",
    ";\n",
    "\n",
    "/* Indirect relationships (one further hop, answers the question: What genes are associated with those genes?) */\n",
    "MATCH (disease:Disease {Name:\"OVARIAN CANCER\"})<-[diseaseToDrug:APPROVED_TO_TREAT]-(drug:Drug)\n",
    "WITH disease, diseaseToDrug, drug as d\n",
    "MATCH (drug:Drug)-[drugToGene]-(gene:Gene)\n",
    "WHERE drug.Name=d.Name\n",
    "WITH disease, diseaseToDrug, d, drug, drugToGene, gene as g\n",
    "MATCH (gene:Gene)-[geneToGene]-(gene2:Gene)\n",
    "WHERE gene.Symbol=g.Symbol\n",
    "RETURN DISTINCT disease, diseaseToDrug, d, drug, drugToGene, g, gene, geneToGene, gene2 \n",
    ";"
   ]
  },
  {
   "cell_type": "markdown",
   "metadata": {},
   "source": [
    "#### How do two genes potentially interact? \n",
    "This question is asking for you to return the relationship between two given genes. "
   ]
  },
  {
   "cell_type": "code",
   "execution_count": null,
   "metadata": {
    "vscode": {
     "languageId": "sql"
    }
   },
   "outputs": [],
   "source": [
    "/* Direct relationships */\n",
    "MATCH (g1:Gene {Symbol: \"EGFR\"})-[geneToGene]-(g2:Gene{Symbol: \"TP53\"})\n",
    "RETURN DISTINCT type(geneToGene)\n",
    ";\n",
    "\n",
    "/* Indirect relationships (one further hop, if the two genes do not share a direct relationship but are related through one middle gene) */\n",
    "MATCH (gene:Gene {Symbol: \"EGFR\"})-[geneToOther]-(othernode)-[otherToGene]-(gene2:Gene {Symbol: \"TP53\"})\n",
    "RETURN gene, geneToOther, othernode, otherToGene, gene2 LIMIT 5\n",
    ";"
   ]
  },
  {
   "cell_type": "markdown",
   "metadata": {},
   "source": [
    "#### What drugs could be associated with a given gene? \n",
    "This question is asking you to return all the drugs that relate to the given gene, it doesn't specify the type of relationship, so you search for that too here."
   ]
  },
  {
   "cell_type": "code",
   "execution_count": null,
   "metadata": {
    "vscode": {
     "languageId": "sql"
    }
   },
   "outputs": [],
   "source": [
    "MATCH (d:Drug)-[drugToGene]->(g:Gene{Symbol: \"BCL2\"})\n",
    "RETURN DISTINCT d, type(drugToGene)\n",
    ";"
   ]
  },
  {
   "cell_type": "markdown",
   "metadata": {},
   "source": [
    "#### (1) What drugs have been approved to treat Acute Myeloid Leukemia?\n",
    "\n",
    "#### (2) What are the targets for these drugs?\n",
    "\n",
    "#### (3) What are the genes that interact with these target genes?"
   ]
  },
  {
   "cell_type": "code",
   "execution_count": null,
   "metadata": {
    "vscode": {
     "languageId": "sql"
    }
   },
   "outputs": [],
   "source": [
    "/* (1) */\n",
    "MATCH (drug:Drug)-[drugToDisease:APPROVED_TO_TREAT]->(disease:Disease {Name: \"ACUTE MYELOGENOUS LEUKEMIA\"})\n",
    "RETURN DISTINCT drug, drugToDisease, disease\n",
    "\n",
    "/* (2) */\n",
    "MATCH (drug:Drug)-[drugToDisease:APPROVED_TO_TREAT]->(disease:Disease {Name: \"ACUTE MYELOGENOUS LEUKEMIA\"})\n",
    "WITH disease. drugToDisease, drug as d\n",
    "MATCH (drug:Drug)-[drugToGene:TARGETS]-(gene:Gene)\n",
    "WHERE d.Name = drug.Name\n",
    "RETURN DISTINCT disease, drugToDisease, d, drug, drugToGene, gene\n",
    "\n",
    "/* (3) */\n",
    "MATCH (drug:Drug)-[diseaseToDrug:APPROVED_TO_TREAT]->(disease:Disease {Name:\"ACUTE MYELOGENOUS LEUKEMIA\"})\n",
    "WITH disease, diseaseToDrug, drug as d\n",
    "MATCH (drug:Drug)-[drugToGene]-(gene:Gene)\n",
    "WHERE d.Name = drug.Name \n",
    "WITH disease, diseaseToDrug, d, drug, drugToGene, gene as g\n",
    "MATCH (gene:Gene)-[geneToGene]-(gene2:Gene)\n",
    "WHERE g.Symbol = gene.Symbol\n",
    "RETURN DISTINCT disease, diseaseToDrug, d, drug, drugToGene, g, gene, geneToGene, gene2 \n",
    ";"
   ]
  }
 ],
 "metadata": {
  "kernelspec": {
   "display_name": "Python 3.8.9 64-bit",
   "language": "python",
   "name": "python3"
  },
  "language_info": {
   "codemirror_mode": {
    "name": "ipython",
    "version": 3
   },
   "file_extension": ".py",
   "mimetype": "text/x-python",
   "name": "python",
   "nbconvert_exporter": "python",
   "pygments_lexer": "ipython3",
   "version": "3.8.9"
  },
  "orig_nbformat": 4,
  "vscode": {
   "interpreter": {
    "hash": "31f2aee4e71d21fbe5cf8b01ff0e069b9275f58929596ceb00d14d90e3e16cd6"
   }
  }
 },
 "nbformat": 4,
 "nbformat_minor": 2
}
