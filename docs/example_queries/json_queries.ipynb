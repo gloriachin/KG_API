{
 "cells": [
  {
   "cell_type": "markdown",
   "metadata": {},
   "source": [
    "# JSON query examples to use as input"
   ]
  },
  {
   "cell_type": "markdown",
   "metadata": {},
   "source": [
    "#### What genes physically interact with the gene BCL2?"
   ]
  },
  {
   "cell_type": "code",
   "execution_count": null,
   "metadata": {},
   "outputs": [],
   "source": [
    " {\n",
    "    \"message\": {\n",
    "      \"query_graph\": {\n",
    "        \"edges\": {\n",
    "          \"e00\": {\n",
    "            \"subject\": \"n00\",\n",
    "            \"object\": \"n01\",\n",
    "            \"predicates\": [\n",
    "              \"biolink:physically_interacts_with\"\n",
    "            ]\n",
    "          }\n",
    "        },\n",
    "        \"nodes\": {\n",
    "          \"n00\": {\n",
    "            \"categories\": [\n",
    "              \"biolink:Gene\"\n",
    "            ]\n",
    "          },\n",
    "          \"n01\": {\n",
    "            \"categories\": [\n",
    "              \"biolink:Gene\"\n",
    "            ],\n",
    "            \"ids\": [\n",
    "              \"Symbol:\\\"BCL2\\\"\"\n",
    "            ]\n",
    "          }\n",
    "        }\n",
    "      }\n",
    "    }\n",
    "}"
   ]
  },
  {
   "cell_type": "markdown",
   "metadata": {},
   "source": [
    "#### What drugs are approved to treat ovarian cancer? "
   ]
  },
  {
   "cell_type": "code",
   "execution_count": null,
   "metadata": {},
   "outputs": [],
   "source": [
    "{\n",
    "  \"message\": {\n",
    "    \"query_graph\": {\n",
    "      \"edges\": {\n",
    "        \"e00\": {\n",
    "          \"subject\": \"n00\",\n",
    "          \"object\": \"n01\",\n",
    "          \"predicates\": [\n",
    "            \"biolink:approved_to_treat\"\n",
    "          ]\n",
    "        }\n",
    "      },\n",
    "      \"nodes\": {\n",
    "        \"n00\": {\n",
    "          \"categories\": [\n",
    "            \"biolink:Drug\"\n",
    "          ]\n",
    "        },\n",
    "        \"n01\": {\n",
    "          \"categories\": [\n",
    "            \"biolink:Disease\"\n",
    "          ],\n",
    "          \"ids\": [\n",
    "            \"Name:\\\"Ovarian Cancer\\\"\"\n",
    "          ]\n",
    "        }\n",
    "      }\n",
    "    }\n",
    "  }\n",
    "}"
   ]
  },
  {
   "cell_type": "markdown",
   "metadata": {},
   "source": [
    "#### What are the targets for the drug Paclitaxel?"
   ]
  },
  {
   "cell_type": "code",
   "execution_count": null,
   "metadata": {},
   "outputs": [],
   "source": [
    "{\n",
    "  \"message\": {\n",
    "    \"query_graph\": {\n",
    "      \"edges\": {\n",
    "        \"e00\": {\n",
    "          \"subject\": \"n00\",\n",
    "          \"object\": \"n01\",\n",
    "          \"predicates\": [\n",
    "            \"biolink:targets\"\n",
    "          ]\n",
    "        }\n",
    "      },\n",
    "      \"nodes\": {\n",
    "        \"n00\": {\n",
    "          \"categories\": [\n",
    "            \"biolink:Drug\"\n",
    "          ],\n",
    "          \"ids\": [\n",
    "            \"Name:\\\"Paclitaxel\\\"\"\n",
    "          ]\n",
    "        },\n",
    "        \"n01\": {\n",
    "          \"categories\": [\n",
    "            \"biolink:Gene\"\n",
    "          ]\n",
    "        }\n",
    "      }\n",
    "    }\n",
    "  }\n",
    "}"
   ]
  },
  {
   "cell_type": "markdown",
   "metadata": {},
   "source": [
    "#### What are the gene targets for ovarian cancer?\n",
    "(Note: this one might be wrong)"
   ]
  },
  {
   "cell_type": "code",
   "execution_count": null,
   "metadata": {},
   "outputs": [],
   "source": [
    "{\n",
    "  \"message\": {\n",
    "    \"query_graph\": {\n",
    "      \"edges\": {\n",
    "        \"e00\": {\n",
    "          \"subject\": \"n00\",\n",
    "          \"object\": \"n01\",\n",
    "          \"predicates\": [\n",
    "            \"biolink:approved_to_treat\",\n",
    "            \"biolink:targets\"\n",
    "          ]\n",
    "        }\n",
    "      },\n",
    "      \"nodes\": {\n",
    "        \"n00\": {\n",
    "          \"categories\": [\n",
    "            \"biolink:Disease\"\n",
    "          ],\n",
    "          \"ids\": [\n",
    "            \"Name:\\\"Ovarian Cancer\\\"\"\n",
    "          ]\n",
    "        },\n",
    "        \"n01\": {\n",
    "          \"categories\": [\n",
    "            \"biolink:Drug\"\n",
    "          ]\n",
    "        },\n",
    "        \"n02\": {\n",
    "          \"categories\": [\n",
    "            \"biolink:Gene\"\n",
    "          ]\n",
    "        }\n",
    "      }\n",
    "    }\n",
    "  }\n",
    "}"
   ]
  }
 ],
 "metadata": {
  "kernelspec": {
   "display_name": "Python 3.8.9 64-bit",
   "language": "python",
   "name": "python3"
  },
  "language_info": {
   "name": "python",
   "version": "3.8.9"
  },
  "orig_nbformat": 4,
  "vscode": {
   "interpreter": {
    "hash": "31f2aee4e71d21fbe5cf8b01ff0e069b9275f58929596ceb00d14d90e3e16cd6"
   }
  }
 },
 "nbformat": 4,
 "nbformat_minor": 2
}
