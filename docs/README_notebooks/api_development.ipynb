{
 "cells": [
  {
   "cell_type": "markdown",
   "metadata": {},
   "source": [
    "## API Development\n",
    "Query your remote graph database with this guide to API development."
   ]
  },
  {
   "cell_type": "markdown",
   "metadata": {},
   "source": [
    "#### Downloads \n",
    "1. Download [Python3](https://www.python.org/downloads/)\n",
    "\n",
    "#### Install Packages\n",
    "\n",
    "1. pip3 install neo4j\n",
    "2. pip3 install \"fastapi[all]\""
   ]
  },
  {
   "cell_type": "markdown",
   "metadata": {},
   "source": [
    "### Getting Started\n",
    "1. Have ready your remote database username, uri, and password.\n",
    "\n",
    "2. Download/install FastAPI and uvicorn in one go, as shown above. This is the framework used to make the api.\n",
    "\n",
    "    ii. Uvicorn will be useful for displaying the API on localhost."
   ]
  },
  {
   "cell_type": "markdown",
   "metadata": {},
   "source": [
    "### Connect  to Database\n",
    "1. Navigate to the main file in the home of this repository. \n",
    "    1. An instance of FastAPI is created by calling the FastAPI class. \n",
    "    2. The file then contains its first endpoint \"/KG\". \n",
    "        1. This endpoint takes user input as a JSON formatted query. \n",
    "        2. It then connects to the graph database, here you need to input your remote uri and credentials. \n",
    "        3. The endpoint then calls the Query_KG_all() function to parse user input, query the database, and turn the result into JSON format.\n",
    "        4. Return the result back to the user. \n",
    "        \n",
    "2. Navigate to the file KG.py inside the src directory.\n",
    "    1. The db_connect class holds all the necessary pieces to connect to a neo4j database. \n",
    "    2. First creates a driver of the GraphDatabase class. This is where the remote uri, username, and password will be placed. \n",
    "    3. When you want to go to query the database by calling the query() function,  a session of that driver is created and that session runs the provided query against the connected database.\n",
    "    4. Don't forget to close your  driver when you're done using it by calling the close() function."
   ]
  },
  {
   "cell_type": "markdown",
   "metadata": {},
   "source": [
    "### Parse User Input\n",
    "1. Navigate to the src directory, find the KG.py file.\n",
    "2. Scroll down to the Query_KG_all() function.\n",
    "    1. The user-input JSON query and the connected database are the two parameters to this function. \n",
    "    2. First step is to parse the user input.\n",
    "3. Scroll up to the parse_query() function.\n",
    "    1. Here the user input is picked through to obtain the desired pieces. Each variable is just a smaller segment of the one before, until we get to the desired piece.\n",
    "    2. Strings are then put together, made up of the pieces we got from step 3.1, and other characters. When put together later, these will form a Cypher query. These strings are then returned to be used as input to the next function."
   ]
  },
  {
   "cell_type": "markdown",
   "metadata": {},
   "source": [
    "### Query the Database\n",
    "1. Scroll to the query_KG() function. The 5 parameters are the strings from the \"Parse User Input\" section above.\n",
    "2. Here, the strings are put together into a Cypher query. They will be passed as parameters into the query. \n",
    "3. We then pass this Cypher query into the query() function which queries our database. \n",
    "4. The results are obtained in the result variable. "
   ]
  },
  {
   "cell_type": "markdown",
   "metadata": {},
   "source": [
    "### Results into JSON Format\n",
    "1. Much like the \"Parse User Input\" section, here, we parse the query result. \n",
    "2. It is first turned into a dictionary for easy access to all of its contents (each node, and the relationship). \n",
    "3. We then create a JSON map called response_message, and place all of the parts from the Cypher query result into its respective place. \n",
    "4. After the JSON formatted response is created, we return this to the endpoint, which returns it back to the user. "
   ]
  },
  {
   "cell_type": "markdown",
   "metadata": {},
   "source": [
    "#### Additional Links\n",
    "\n",
    "If you have any further questions, here are two links to neo4j resources that may help with using [neo4j from Python](https://neo4j.com/developer/python/) and [neo4j API documentation](https://neo4j.com/docs/api/python-driver/current/api.html)."
   ]
  }
 ],
 "metadata": {
  "kernelspec": {
   "display_name": "Python 3.8.9 64-bit",
   "language": "python",
   "name": "python3"
  },
  "language_info": {
   "name": "python",
   "version": "3.8.9"
  },
  "orig_nbformat": 4,
  "vscode": {
   "interpreter": {
    "hash": "31f2aee4e71d21fbe5cf8b01ff0e069b9275f58929596ceb00d14d90e3e16cd6"
   }
  }
 },
 "nbformat": 4,
 "nbformat_minor": 2
}
