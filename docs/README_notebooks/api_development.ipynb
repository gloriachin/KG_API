{
 "cells": [
  {
   "cell_type": "markdown",
   "metadata": {},
   "source": [
    "## API Development\n",
    "Query your database with this API guide."
   ]
  },
  {
   "cell_type": "markdown",
   "metadata": {},
   "source": [
    "### Downloads \n",
    "1. Download [Python3](https://www.python.org/downloads/)\n",
    "\n",
    "### Install Packages\n",
    "\n",
    "1. pip3 install neo4j\n",
    "2. pip install \"fastapi[all]\""
   ]
  },
  {
   "cell_type": "markdown",
   "metadata": {},
   "source": [
    "#### Getting Started\n",
    "1. Make sure to have your database username, uri, and password, as they are essential to connecting your database with a python script in order to query the database.\n",
    "\n",
    "2. Download/install FastAPI and uvicorn in one go, as shown above. This is the framework used to make the api.\n",
    "\n",
    "    ii. Uvicorn will display the api on localhost"
   ]
  },
  {
   "cell_type": "markdown",
   "metadata": {},
   "source": [
    "#### Connect Script to Database\n",
    "To connect your python script to the database, you need to include this code below:"
   ]
  },
  {
   "cell_type": "code",
   "execution_count": null,
   "metadata": {},
   "outputs": [],
   "source": [
    "from neo4j import GraphDatabase\n",
    "from fastapi import FastAPI\n",
    "class apiP:\n",
    "    \n",
    "    def __init__(self, uri, user, pwd):\n",
    "        self.__uri = uri\n",
    "        self.__user = user\n",
    "        self.__pwd = pwd\n",
    "        self.__driver = None\n",
    "        try:\n",
    "            self.__driver = GraphDatabase.driver(self.__uri, auth=(self.__user, self.__pwd))\n",
    "        except Exception as e:\n",
    "            print(\"Could not create the driver\", e)\n",
    "        \n",
    "    def close(self):\n",
    "        if self.__driver is not None:\n",
    "            self.__driver.close()\n",
    "        \n",
    "    def query(self, query, db=None):\n",
    "        assert self.__driver is not None, \"The driver was not fully initialized\"\n",
    "        session = None\n",
    "        response = None\n",
    "        try: \n",
    "            session = self.__driver.session(database=db) if db is not None else self.__driver.session() \n",
    "            response = list(session.run(query))\n",
    "        except Exception as e:\n",
    "            print(\"The Query did not complete:\", e)\n",
    "        finally: \n",
    "            if session is not None:\n",
    "                session.close()\n",
    "        return response"
   ]
  },
  {
   "cell_type": "markdown",
   "metadata": {},
   "source": [
    "This is the class that connects you to the database. Below this, create an instance of that class and store it as a variable:"
   ]
  },
  {
   "cell_type": "code",
   "execution_count": null,
   "metadata": {},
   "outputs": [],
   "source": [
    "connection = apiP(\"your uri\",\"neo4j\",\"your password\") \n",
    "#put your info right here on top"
   ]
  },
  {
   "cell_type": "markdown",
   "metadata": {},
   "source": [
    "This is where you need to have your password and uri on hand. Input those as parameters to the instance in order to connect to the database.\n",
    "\n",
    "Once your done with that, you need to create an instance of FastAPI:"
   ]
  },
  {
   "cell_type": "code",
   "execution_count": null,
   "metadata": {},
   "outputs": [],
   "source": [
    "app=FastAPI()"
   ]
  },
  {
   "cell_type": "markdown",
   "metadata": {},
   "source": [
    "Now you can start making API endpoints. Here is one example: "
   ]
  },
  {
   "cell_type": "code",
   "execution_count": null,
   "metadata": {},
   "outputs": [],
   "source": [
    "@app.get('/')\n",
    "def root():\n",
    "    return {'root': 'you are in the root of the api'}"
   ]
  },
  {
   "cell_type": "markdown",
   "metadata": {},
   "source": [
    "@app.get('/') dictates what the endpoint path will be. Just a slash indicates the root of the API.\n",
    "\n",
    "You need to add paths that are meaningful to the information that will be displayed. \n",
    "\n",
    "Now, to query the database and display that information in the API, follow the code below:"
   ]
  },
  {
   "cell_type": "code",
   "execution_count": null,
   "metadata": {},
   "outputs": [],
   "source": [
    "@app.get('/Genes')\n",
    "async def genes(lim:int = 20):\n",
    "    qString = \"match (g:Gene) return g limit  {lim}\".format(lim=lim)\n",
    "    return {\"Genes\": connection.query(qString, db='neo4j')}"
   ]
  },
  {
   "cell_type": "markdown",
   "metadata": {},
   "source": [
    "We use our class instance that we made earlier to query the database. \n",
    "\n",
    "connection.query(###) queries the database, though you need to insert two parameters: the name of the database, and the query code itself. \n",
    "\n",
    "In this example, the query code is stored in the variable called 'qSrtring'. At the end of that string there is a .formart(lim=lim), this is to tell the code that the lim inside the curly braces is a variable. \n",
    "\n",
    "The  variable lim is passed in through the parameter of the function itself. In this example, the function is called 'genes'. For your case, lim is the limit of response you want to get back form the query. The default amount is set to 20, you can change this when you add a '?lim= ' and set equals to some number. That number will be the new number of responses you get back from the query.   "
   ]
  },
  {
   "cell_type": "markdown",
   "metadata": {},
   "source": [
    "#### Additional Links\n",
    "\n",
    "If you have any further questions, here are [one](https://neo4j.com/developer/python/), [two](https://neo4j.com/docs/api/python-driver/current/api.html) links to Neo4j resources that may help with using Neo4j from Python and of Neo4j API documentation."
   ]
  }
 ],
 "metadata": {
  "language_info": {
   "name": "python"
  },
  "orig_nbformat": 4
 },
 "nbformat": 4,
 "nbformat_minor": 2
}
