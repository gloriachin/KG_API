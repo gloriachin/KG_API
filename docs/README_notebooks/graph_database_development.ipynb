{
 "cells": [
  {
   "cell_type": "markdown",
   "metadata": {},
   "source": [
    "## Graph Database Development\n",
    "Convert your CSV files into a graph database using Neo4j."
   ]
  },
  {
   "cell_type": "markdown",
   "metadata": {},
   "source": [
    "### Downloads\n",
    "\n",
    "1. Download [Neo4j Desktop](https://neo4j.com/download/)\n",
    "\n",
    "### Install Packages\n",
    "\n",
    "1. No packages are needed to be installed."
   ]
  },
  {
   "cell_type": "markdown",
   "metadata": {},
   "source": [
    "#### Getting Started\n",
    "\n",
    "1. Open Neo4j Desktop and login or create an account with either a username/password, or with an email address.\n",
    "2. When you first open Neo4j Desktop, there will be an intro project with a movie database already started. You can only have one DBMS running at a time, so first thing is to click 'Stop' to end this session. After it stops, there should be a message on the top saying 'No active DBMS'.\n",
    "3. Create a new project in the left-hand sidebar by clicking 'New'. This makes a new project named 'Project'. \n",
    "4. On the right-hand side of the name 'Project', there is an 'Edit' button, click this to rename your project to something more specific. Click the check mark to save the new name.\n",
    "5. In your new Project, you can create as many DBMSs as you want. Go to the 'Add' button on the right-hand side of the project, and choose 'Local DBMS'. \n",
    "6. Here, you can rename your DBMS and give it a password (can be different from your Neo4j Desktop password). Then choose 'Create'.\n",
    "7. Hover over your newly created DBMS and click 'Start'. It will take a moment to start, but soon you'll see a green 'Active' label.\n",
    "8. Now that your DBMS is created and activated, you can access your DBMS locally from any of Neo4j's other tools, such as Bloom and Browser. You can do this by hovering over your DBMS and clicking the down arrow next to 'Open' and choosing any of the tools listed. We'll do this more later, so for now just stay in Desktop. "
   ]
  },
  {
   "cell_type": "markdown",
   "metadata": {},
   "source": [
    "\n",
    "#### Move your CSV Files to the Import Folder\n",
    "1. Hovering over your DBMS, next to 'Open' are three grey dots. Hover over these dots, go to 'Open Folder' and from there click on 'import'. This will open the import folder of your Neo4j DBMS. \n",
    "2. Move your CSV file(s) into this folder: drag-and-drop, copy-and-paste, or if you're more comfortable in the Terminal you can use the provided path and the mv or cp commands.\n",
    "3. Now that your files are in the import folder, you can begin creating the database using the Cypher query language. "
   ]
  },
  {
   "cell_type": "markdown",
   "metadata": {},
   "source": [
    "#### LOAD CSV\n",
    "1. Open your favorite text editor and create a .cypher file. \n",
    "    \n",
    "    i. If using Visual Studio Code, install the 'Cypher Query Language' Extension. Then, open a new file and type 'Command-K M' and choose 'Cypher Query Language' from the drop down list.\n",
    "2. The first thing you will want to do is create [Constraints](https://neo4j.com/docs/cypher-manual/current/constraints/) on all of the nodes you are planning on creating.\n",
    "3. Next, you will use the [LOAD CSV](https://neo4j.com/docs/cypher-manual/current/clauses/load-csv/) command to read your CSV files and use the data to make a graph.\n",
    "4. The next thing you'll want to do is visualize the architecture of your database. What properties will each Node contain? What types of relationships will be between certain Nodes? What are the properties of those certain relationships? Questions like these are easier to answer from a visualization rather than figuring them out straight in your code. I recommend using [arrows.app](https://neo4j.com/labs/arrows/), a Neo4j tool for drawing pictures of your graph.\n",
    "5. Now that you have a good idea how to design your database, you are ready to write the cypher queries to turn the data to a graph. \n",
    "\n",
    "    i. To begin, you'll need to create the nodes and relationships. If you are sure there are no duplicate rows, you can use the CREATE command, and you can use MATCH to find existing data to do updates. But, if you are not sure whether you might have duplicates or not, especially if you are pulling data from multiple sources, then the MERGE clause is the right command. It searches if the data already exists in the graph, and if it does not exist then MERGE will create it. This is why the constraints are initialized first: an index is created on the nodes or relationships that are constrained and this helps with performance purposes when searching the graph. \n",
    "\n",
    "    ii. You can create nodes and relationships with labels and properties. There are a few different ways to go about doing this, one example is below using the SET command for setting properties, but [here](https://neo4j.com/docs/cypher-manual/current/syntax/) you can find more documentation on the Cypher query syntax. \n",
    "\n",
    "    iii. Note that all Cypher queries end with a semicolon."
   ]
  },
  {
   "cell_type": "code",
   "execution_count": null,
   "metadata": {
    "vscode": {
     "languageId": "sql"
    }
   },
   "outputs": [],
   "source": [
    "CREATE CONSTRAINT FOR (g:Gene) REQUIRE g.Name IS UNIQUE;\n",
    "CREATE CONSTRAINT FOR (d:Drug) REQUIRE d.Name IS UNIQUE;\n",
    "\n",
    "USING PERIODIC COMMIT\n",
    "LOAD CSV WITH HEADERS \n",
    "FROM 'file:///demo.csv' AS row\n",
    "\n",
    "MERGE (drug:Drug {Name: line.DRUG_NAME})\n",
    "SET drug.Synonyms = line.Synonyms\n",
    "\n",
    "MERGE (gene:Gene {Name: line.Target})\n",
    "\n",
    "CREATE (drug)-[t:TARGETS]->(gene)\n",
    "SET t.Disease = line.Disease,\n",
    "    t.Date = line.Date,\n",
    ";"
   ]
  },
  {
   "cell_type": "markdown",
   "metadata": {},
   "source": [
    "#### Run Cypher Queries\n",
    "1. Back in Neo4j Desktop, hover over your DBMS and click on the down arrow next to 'Open', choose 'Terminal'.\n",
    "2. A terminal will open, here type 'bin/cypher-shell'\n",
    "3. Login to your DBMS with username 'neo4j' and password is the one you set for your DBMS (not your Neo4j Desktop password).\n",
    "4. Copy your Constraints from your text editor and paste them here into the terminal.\n",
    "5. Once the constraints are created, copy your remaining cypher query (creating the nodes and relationships) from your text editor and paste that here into the terminal. This may take quite a few moments to run, but after a little time you will get a message saying some number of nodes, relationships, and properties were created. \n",
    "6. Type ':exit' to quit, and close the terminal."
   ]
  },
  {
   "cell_type": "markdown",
   "metadata": {},
   "source": [
    "#### Visualize and Query your Graph Database\n",
    "\n",
    "1. In Neo4j Desktop, hover over your DBMS and click 'Open'. This will open your newly created graph database in Neo4j Browser.\n",
    "    \n",
    "    i. Neo4j Browser will open, and here you can query your database! First, I recommend entering ':schema' and push 'Run' (the play-arrow button). This tells you about your nodes, relationships, constraints, and other logistical information about your graph.\n",
    "    \n",
    "    ii. Entering 'CALL db.schema.visualization' allows you to see your nodes and relationships, similar to the visual you created earlier in arrows.app\n",
    "\n",
    "    ii. Here you can enter any Cypher query you want. Refer to the Cypher [documentation](https://neo4j.com/docs/cypher-manual/current/syntax/) for writing these queries. \n",
    "\n",
    "2. In Neo4j Desktop, hover over your DBMS and click the down arrow next to 'Open', choose 'Neo4j Bloom'.\n",
    "\n",
    "    i. Neo4j Bloom will open, and here you can visualize your database even better! You can enter Node labels to see just those specific nodes, you can enter nodes and the relationship labels between them to visualize those relationships, you can even zoom in close to see the actual labels and clicking on the nodes and relationships will bring up their properties. \n",
    "\n",
    "    ii. This is helpful for double checking that your Cypher code for creating the database was correct, and the graph is actually designed the way you intended it to be."
   ]
  },
  {
   "cell_type": "markdown",
   "metadata": {},
   "source": [
    "#### Future Steps\n",
    "Future steps include exporting the database to an external platform, such as Google Cloud. "
   ]
  },
  {
   "cell_type": "markdown",
   "metadata": {},
   "source": [
    "#### Additional Links\n",
    "If further explanation is needed, follow [this](https://neo4j.com/developer/desktop-csv-import/#loadcsv-desktop) tutorial from Neo4j for more help. \n",
    "\n",
    "Here is a useful [link](https://neo4j.com/docs/) to the documentation for all of Neo4j's different tools and the Cypher query language. "
   ]
  }
 ],
 "metadata": {
  "kernelspec": {
   "display_name": "Python 3.8.9 64-bit",
   "language": "python",
   "name": "python3"
  },
  "language_info": {
   "name": "python",
   "version": "3.8.9"
  },
  "orig_nbformat": 4,
  "vscode": {
   "interpreter": {
    "hash": "31f2aee4e71d21fbe5cf8b01ff0e069b9275f58929596ceb00d14d90e3e16cd6"
   }
  }
 },
 "nbformat": 4,
 "nbformat_minor": 2
}
