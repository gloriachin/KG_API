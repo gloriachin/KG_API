{
 "cells": [
  {
   "cell_type": "markdown",
   "id": "5de3b618",
   "metadata": {},
   "source": [
    "# Implementation of graph based API to expose knowledge graphs."
   ]
  },
  {
   "cell_type": "markdown",
   "id": "4e12839c",
   "metadata": {},
   "source": [
    "### How to use the API as it is now:"
   ]
  },
  {
   "cell_type": "markdown",
   "id": "1677f41a",
   "metadata": {},
   "source": [
    "1. In terminal, navigate to the home of this repository and enter:\n",
    "\n",
    "python3 -m uvicorn main:app --reload\n",
    "\n",
    "2. When you run this a URL will be provided, copy and paste that into a search engine. Add to the end of the URL \"/docs\" and hit enter. Your URL should look something like: http://127.0.0.1:8000/docs\n",
    "\n",
    "3. FastAPI user interface will open. Click on the green POST bar.\n",
    "\n",
    "4. Click \"Try it out\"\n",
    "\n",
    "5. Enter any json query into the \"Request body\" box. (This repository contains example json queries you could enter. Navigate to the docs/example_queries directory, and choose the json_queries notebook. Copy and paste any of these.)\n",
    "\n",
    "6. Click \"Execute\" and scroll down to the \"Responses\" to see the results of your query."
   ]
  },
  {
   "cell_type": "markdown",
   "id": "c7b94b7a",
   "metadata": {},
   "source": [
    "### Formatting Knowledge\n",
    "To view the files on knowledge standardization, navigate to the database_formatting directory."
   ]
  },
  {
   "cell_type": "markdown",
   "id": "4759cf74",
   "metadata": {},
   "source": [
    "### Graph Database\n",
    "\n",
    "To read about how the graph database was created, navigate to the docs/README_notebooks directory and choose the graph_database_development notebook.\n",
    "\n",
    "To view the files on graph database development, navigate to the create_graph_db directory."
   ]
  },
  {
   "cell_type": "markdown",
   "id": "37ae1a91",
   "metadata": {},
   "source": [
    "### API\n",
    "\n",
    "To read about how the API was developed, navigate to the docs/README_notebooks directory and choose the api_development notebook.\n",
    "\n",
    "To view the files on API development, see main.py in the home of this repository, and navigate to the src directory. "
   ]
  }
 ],
 "metadata": {
  "kernelspec": {
   "display_name": "Python 3.8.9 64-bit",
   "language": "python",
   "name": "python3"
  },
  "language_info": {
   "codemirror_mode": {
    "name": "ipython",
    "version": 3
   },
   "file_extension": ".py",
   "mimetype": "text/x-python",
   "name": "python",
   "nbconvert_exporter": "python",
   "pygments_lexer": "ipython3",
   "version": "3.8.9"
  },
  "vscode": {
   "interpreter": {
    "hash": "31f2aee4e71d21fbe5cf8b01ff0e069b9275f58929596ceb00d14d90e3e16cd6"
   }
  }
 },
 "nbformat": 4,
 "nbformat_minor": 5
}
